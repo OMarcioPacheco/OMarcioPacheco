{
 "cells": [
  {
   "cell_type": "code",
   "execution_count": 4,
   "id": "5b667f69",
   "metadata": {},
   "outputs": [
    {
     "name": "stdout",
     "output_type": "stream",
     "text": [
      "Digite um número: 4\n",
      "\n",
      "Número incorreto, favor digitar o número correto:\n",
      "Digite um número: 6\n",
      "\n",
      "Número incorreto, favor digitar o número correto:\n",
      "Digite um número: 9\n",
      "\n",
      "Número incorreto, favor digitar o número correto:\n",
      "Digite um número: 8\n",
      "\n",
      "Número incorreto, favor digitar o número correto:\n",
      "Digite um número: 254\n",
      "\n",
      "Número incorreto, favor digitar o número correto:\n",
      "Digite um número: 325\n",
      "\n",
      "Número incorreto, favor digitar o número correto:\n",
      "Digite um número: 0\n",
      "\n",
      "Número correto. Fim do programa.\n"
     ]
    }
   ],
   "source": [
    "# Questão 1\n",
    "# Faça um script que peça para um usuário digitar um número e que só finaliza quando o usuário digitar 0.\n",
    "\n",
    "n = int(input(\"Digite um número: \"))\n",
    "\n",
    "while n != 0:\n",
    "    print(f\"\\nNúmero incorreto, favor digitar o número correto:\")\n",
    "    n = int(input(\"Digite um número: \"))\n",
    "else:\n",
    "    print(f\"\\nNúmero correto. Fim do programa.\")"
   ]
  },
  {
   "cell_type": "code",
   "execution_count": 16,
   "id": "bffbf02e",
   "metadata": {},
   "outputs": [
    {
     "name": "stdout",
     "output_type": "stream",
     "text": [
      "Favor, inserir a sua idade: 32\n",
      "Favor, inserir o seu salário: 0\n",
      "\n",
      "Valor de salário não é válido.\n",
      "Favor, inserir o seu salário: 50\n",
      "Favor, insira seu gênero (M, F ou Outro): M\n",
      "\n",
      "Seus dados são:\n",
      "Idade: 32 anos\n",
      "Salário: R$ 50.0\n",
      "Gênero: M\n"
     ]
    }
   ],
   "source": [
    "# Questão 2\n",
    "# Faça um script que peça para o usuário digitar a idade, o salário e o sexo de uma pessoa \n",
    "# até que as entradas digitadas sejam válidas.\n",
    "\n",
    "# Idade: entre 0 e 150;\n",
    "# Salário: maior que 0;\n",
    "# Gênero: M, F ou Outro.\n",
    "# Por último imprima os dados recebidos do usuário.\n",
    "\n",
    "idade = int(input(\"Favor, inserir a sua idade: \"))\n",
    "\n",
    "while idade < 0 or idade > 150:\n",
    "    print(\"\\nEssa idade não é válida.\")\n",
    "    idade = int(input(\"Favor, inserir a sua idade: \"))\n",
    "else:\n",
    "    salario = float(input(\"Favor, inserir o seu salário: \"))\n",
    "    while salario <= 0:\n",
    "        print(\"\\nValor de salário não é válido.\")\n",
    "        salario = float(input(\"Favor, inserir o seu salário: \"))\n",
    "    else:\n",
    "        genero = str(input(\"Favor, insira seu gênero (M, F ou Outro): \"))\n",
    "        while genero != \"M\" and genero != \"F\" and genero != \"Outro\":\n",
    "            print(\"\\nGênero não é válido.\")\n",
    "            genero = str(input(\"Favor, insira seu gênero (M, F ou Outro): \"))\n",
    "        else:\n",
    "            print(f\"\\nSeus dados são:\")\n",
    "            print(f\"Idade: {idade} anos\")\n",
    "            print(f\"Salário: R$ {salario}\")\n",
    "            print(f\"Gênero: {genero}\")\n",
    "                    "
   ]
  },
  {
   "cell_type": "code",
   "execution_count": 22,
   "id": "70dd8d6c",
   "metadata": {},
   "outputs": [
    {
     "name": "stdout",
     "output_type": "stream",
     "text": [
      "Digite um número inteiro: 8\n",
      "Input: 8\n",
      "Output: 36\n"
     ]
    }
   ],
   "source": [
    "# Questão 3\n",
    "# Faça um script que peça ao usuário para digitar um número ne alguns todos os números de 1 a n.\n",
    "\n",
    "# Exemplo 1:\n",
    "# input: 4\n",
    "# output: 10\n",
    "\n",
    "# Exemplo 2:\n",
    "# input: 10\n",
    "# output: 55\n",
    "\n",
    "n = int(input(\"Digite um número inteiro: \"))\n",
    "\n",
    "cont = 1\n",
    "soma = 0\n",
    "\n",
    "while cont <= n:\n",
    "    soma = soma + cont \n",
    "    cont = cont + 1\n",
    "\n",
    "print(f\"Input: {n}\")\n",
    "print(f\"Output: {soma}\")"
   ]
  },
  {
   "cell_type": "code",
   "execution_count": 25,
   "id": "c50edd92",
   "metadata": {},
   "outputs": [
    {
     "name": "stdout",
     "output_type": "stream",
     "text": [
      "Digite um número inteiro: 11\n",
      "\n",
      "Número incorreto, favor digitar o número correto:\n",
      "Digite um número: 5\n",
      "\n",
      "Número incorreto, favor digitar o número correto:\n",
      "Digite um número: 8\n",
      "\n",
      "Número incorreto, favor digitar o número correto:\n",
      "Digite um número: 0\n",
      "Output: 24\n"
     ]
    }
   ],
   "source": [
    "# Questão 4\n",
    "# Faça um script que peça para um usuário digitar um número e que só finaliza quando o usuário digitar 0. \n",
    "# Ao final imprima a soma de todos os números digitados.\n",
    "\n",
    "# Questão 1\n",
    "# Faça um script que peça para um usuário digitar um número e que só finaliza quando o usuário digitar 0.\n",
    "\n",
    "n = int(input(\"Digite um número inteiro: \"))\n",
    "\n",
    "soma = 0\n",
    "\n",
    "while n != 0:\n",
    "    print(f\"\\nNúmero incorreto, favor digitar o número correto:\")\n",
    "    soma = soma + n\n",
    "    n = int(input(\"Digite um número: \"))\n",
    "else:\n",
    "    print(f\"Output: {soma}\")"
   ]
  },
  {
   "cell_type": "code",
   "execution_count": null,
   "id": "cb89eeed",
   "metadata": {},
   "outputs": [],
   "source": [
    "# Questão 5\n",
    "# Faça um programa que recebe um número inteiro do usuário e \n",
    "# imprime na tela a quantidade de divisores desse número e quais são eles.\n",
    "\n",
    "# Exemplo 1\n",
    "# input: 10\n",
    "# output:\n",
    "# Divisor: 1\n",
    "# Divisor: 2\n",
    "# Divisor: 5\n",
    "# Total de divisores: 3\n",
    "\n",
    "# Exemplo 2\n",
    "# input: 15\n",
    "# output:\n",
    "# Divisor: 1\n",
    "# Divisor: 3\n",
    "# Divisor: 5\n",
    "# Total de divisores: 3\n",
    "\n",
    "n = int(input(\"Digite um número inteiro: \"))\n",
    "\n",
    "divisor = 1\n",
    "totalDiv = 0\n",
    "\n",
    "while divisor < n:\n",
    "    if n % divisor == 0:\n",
    "        print(f\"Divisor: {divisor}\")\n",
    "        divisor = divisor + 1\n",
    "        totalDiv = totalDiv + 1\n",
    "    else:\n",
    "        divisor = divisor + 1\n",
    "\n",
    "print(f\"Total de Divisores: {totalDiv}\")"
   ]
  },
  {
   "cell_type": "code",
   "execution_count": null,
   "id": "dcae32b5",
   "metadata": {},
   "outputs": [],
   "source": []
  }
 ],
 "metadata": {
  "kernelspec": {
   "display_name": "Python 3",
   "language": "python",
   "name": "python3"
  },
  "language_info": {
   "codemirror_mode": {
    "name": "ipython",
    "version": 3
   },
   "file_extension": ".py",
   "mimetype": "text/x-python",
   "name": "python",
   "nbconvert_exporter": "python",
   "pygments_lexer": "ipython3",
   "version": "3.9.5"
  }
 },
 "nbformat": 4,
 "nbformat_minor": 5
}
