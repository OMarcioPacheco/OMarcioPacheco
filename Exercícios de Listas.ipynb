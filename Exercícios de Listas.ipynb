{
 "cells": [
  {
   "cell_type": "code",
   "execution_count": 52,
   "id": "035d99e8",
   "metadata": {},
   "outputs": [],
   "source": [
    "# Questão 1\n",
    "# Pra quê servir uma lista? Quais são as hipóteses úteis?\n",
    "\n",
    "As listas servem para armazenar e organizar informações. Enquanto a variável armazena apenas um valor, as listas armazenam\n",
    "diversos dados que podem ser processados. Do contrário teríamos uma variável para cada dado, tornando o código muito extenso.\n",
    "\n",
    "Podemos ter listas de palavras, numeros (inteiros ou não), proposições lógicas ou mesmo mistas.\n",
    "\n",
    "A opração com as listas permite executar várias funções com esses dados como, por exemplo: substituir, inverter, reorganizar,\n",
    "realizar uma contagem, acrescentar ou remover, imprimir determinado dado.\n",
    "\n",
    "Em resumo, as listas permitem um processamento mais fácil quando temos um grande volume de dados. "
   ]
  },
  {
   "cell_type": "code",
   "execution_count": null,
   "id": "bfb8e6df",
   "metadata": {},
   "outputs": [],
   "source": [
    "# Questão 2\n",
    "# Qual a relação entre a posição (primeiro, segundo, ...) e índice (0, 1, ...) de um item em uma lista?\n",
    "\n",
    "O índice é a posição de cada elemento dentro da lista, iniciando por 0. \n",
    "\n",
    "No caso abaixo:\n",
    "listaMista = [\"azul\", 2, 0.4, False]\n",
    "O primeiro item da lista corresponde ao índice [0] = \"azul\"\n",
    "O segundo item da lista corresponde ao índice [1] = 2\n",
    "O terceiro item da lista corresponde ao índice [2] = 0.4\n",
    "O quarto item da lista corresponde ao índice [3] = False"
   ]
  },
  {
   "cell_type": "code",
   "execution_count": 51,
   "id": "fd1105ef",
   "metadata": {},
   "outputs": [
    {
     "name": "stdout",
     "output_type": "stream",
     "text": [
      "Digite o 1º número: 546\n",
      "Digite o 2º número: 5468\n",
      "Digite o 3º número: 3021\n",
      "Digite o 4º número: 3215\n",
      "Digite o 5º número: 315\n",
      "Digite o 6º número: 2\n",
      "Digite o 7º número: 1516\n",
      "Digite o 8º número: 894\n",
      "Digite o 9º número: 10\n",
      "Digite o 10º número: 0\n",
      "[0, 10, 894, 1516, 2, 315, 3215, 3021, 5468, 546]\n"
     ]
    }
   ],
   "source": [
    "# Questão 3\n",
    "# Faça um programa que peça 10 números para o usuário e guarde os números em uma lista. \n",
    "# Imprima os itens da lista preenchida de trás para frente.\n",
    "\n",
    "lista = []\n",
    "i = 0\n",
    "pos = 1\n",
    "\n",
    "while i < 10:\n",
    "    numeroA = int(input(f\"Digite o {pos}º número: \"))\n",
    "    lista.append(numeroA)\n",
    "    pos = pos + 1\n",
    "    i = i + 1\n",
    "\n",
    "lista.reverse()\n",
    "print(lista)    "
   ]
  },
  {
   "cell_type": "code",
   "execution_count": 34,
   "id": "0129985c",
   "metadata": {},
   "outputs": [
    {
     "name": "stdout",
     "output_type": "stream",
     "text": [
      "Digite um número inteiro: 5\n",
      "[0, 1, 2, 3, 4]\n"
     ]
    }
   ],
   "source": [
    "# Questão 4\n",
    "# Faça um script que peça para o usuário digitar um número N e imprima uma lista com todos os números de 0 a N-1.\n",
    "\n",
    "# Exemplo\n",
    "# input: 5\n",
    "# output: [0, 1, 2, 3, 4]\n",
    "\n",
    "numeroA = int(input(\"Digite um número inteiro: \"))\n",
    "cont = 0\n",
    "lista = []\n",
    "\n",
    "while cont < numeroA:\n",
    "    lista.append(cont)\n",
    "    cont = cont + 1\n",
    "    \n",
    "print(lista)"
   ]
  },
  {
   "cell_type": "code",
   "execution_count": 56,
   "id": "adda3d32",
   "metadata": {},
   "outputs": [
    {
     "name": "stdout",
     "output_type": "stream",
     "text": [
      "\n",
      "Digite o nome da 1ª pessoa: André\n",
      "Qual a idade de André? 21\n",
      "\n",
      "Digite o nome da 2ª pessoa: Carlos\n",
      "Qual a idade de Carlos? 14\n",
      "\n",
      "Digite o nome da 3ª pessoa: Julia\n",
      "Qual a idade de Julia? 25\n",
      "\n",
      "Digite o nome da 4ª pessoa: Paulo\n",
      "Qual a idade de Paulo? 51\n",
      "\n",
      "Digite o nome da 5ª pessoa: Clarice\n",
      "Qual a idade de Clarice? 1\n",
      "A lista dos nomes que você digitou é ['André', 'Carlos', 'Julia', 'Paulo', 'Clarice'].\n",
      "\n",
      "A lista das idades que você digitou é [21, 14, 25, 51, 1].\n",
      "\n"
     ]
    }
   ],
   "source": [
    "# Questão 5\n",
    "# Faça um programa que leia nome e idade de 5 pessoas e coloque os nomes em uma lista e como idades em outra. \n",
    "# Apresente como duas listas preenchidas.\n",
    "\n",
    "listaNomes = []\n",
    "listaIdades = []\n",
    "i = 0\n",
    "pos = 1\n",
    "\n",
    "while i < 5:\n",
    "    nomeA = input(f\"\\nDigite o nome da {pos}ª pessoa: \")\n",
    "    listaNomes.append(nomeA)\n",
    "    idadeA = int(input(f\"Qual a idade de {nomeA}? \"))\n",
    "    listaIdades.append(idadeA)\n",
    "    pos = pos + 1\n",
    "    i = i + 1\n",
    "\n",
    "print(f\"A lista dos nomes que você digitou é {listaNomes}.\\n\")\n",
    "print(f\"A lista das idades que você digitou é {listaIdades}.\\n\")"
   ]
  },
  {
   "cell_type": "code",
   "execution_count": 70,
   "id": "c79581ac",
   "metadata": {},
   "outputs": [
    {
     "ename": "KeyboardInterrupt",
     "evalue": "Interrupted by user",
     "output_type": "error",
     "traceback": [
      "\u001b[1;31m---------------------------------------------------------------------------\u001b[0m",
      "\u001b[1;31mKeyboardInterrupt\u001b[0m                         Traceback (most recent call last)",
      "\u001b[1;32m<ipython-input-70-ffd0a585502a>\u001b[0m in \u001b[0;36m<module>\u001b[1;34m\u001b[0m\n\u001b[0;32m     18\u001b[0m \u001b[1;33m\u001b[0m\u001b[0m\n\u001b[0;32m     19\u001b[0m \u001b[1;32mwhile\u001b[0m \u001b[0mi\u001b[0m \u001b[1;33m<\u001b[0m \u001b[1;36m10\u001b[0m\u001b[1;33m:\u001b[0m\u001b[1;33m\u001b[0m\u001b[1;33m\u001b[0m\u001b[0m\n\u001b[1;32m---> 20\u001b[1;33m     \u001b[0mnumeroA\u001b[0m \u001b[1;33m=\u001b[0m \u001b[0mint\u001b[0m\u001b[1;33m(\u001b[0m\u001b[0minput\u001b[0m\u001b[1;33m(\u001b[0m\u001b[1;34mf\"Digite o {pos}º número: \"\u001b[0m\u001b[1;33m)\u001b[0m\u001b[1;33m)\u001b[0m\u001b[1;33m\u001b[0m\u001b[1;33m\u001b[0m\u001b[0m\n\u001b[0m\u001b[0;32m     21\u001b[0m     \u001b[1;32mif\u001b[0m \u001b[0mnumeroA\u001b[0m \u001b[1;33m%\u001b[0m \u001b[1;36m2\u001b[0m \u001b[1;33m==\u001b[0m \u001b[1;36m0\u001b[0m\u001b[1;33m:\u001b[0m\u001b[1;33m\u001b[0m\u001b[1;33m\u001b[0m\u001b[0m\n\u001b[0;32m     22\u001b[0m         \u001b[0mlistaPares\u001b[0m\u001b[1;33m.\u001b[0m\u001b[0mappend\u001b[0m\u001b[1;33m(\u001b[0m\u001b[0mnumeroA\u001b[0m\u001b[1;33m)\u001b[0m\u001b[1;33m\u001b[0m\u001b[1;33m\u001b[0m\u001b[0m\n",
      "\u001b[1;32mc:\\users\\márcio pacheco\\appdata\\local\\programs\\python\\python39\\lib\\site-packages\\ipykernel\\kernelbase.py\u001b[0m in \u001b[0;36mraw_input\u001b[1;34m(self, prompt)\u001b[0m\n\u001b[0;32m    846\u001b[0m                 \u001b[1;34m\"raw_input was called, but this frontend does not support input requests.\"\u001b[0m\u001b[1;33m\u001b[0m\u001b[1;33m\u001b[0m\u001b[0m\n\u001b[0;32m    847\u001b[0m             )\n\u001b[1;32m--> 848\u001b[1;33m         return self._input_request(str(prompt),\n\u001b[0m\u001b[0;32m    849\u001b[0m             \u001b[0mself\u001b[0m\u001b[1;33m.\u001b[0m\u001b[0m_parent_ident\u001b[0m\u001b[1;33m,\u001b[0m\u001b[1;33m\u001b[0m\u001b[1;33m\u001b[0m\u001b[0m\n\u001b[0;32m    850\u001b[0m             \u001b[0mself\u001b[0m\u001b[1;33m.\u001b[0m\u001b[0m_parent_header\u001b[0m\u001b[1;33m,\u001b[0m\u001b[1;33m\u001b[0m\u001b[1;33m\u001b[0m\u001b[0m\n",
      "\u001b[1;32mc:\\users\\márcio pacheco\\appdata\\local\\programs\\python\\python39\\lib\\site-packages\\ipykernel\\kernelbase.py\u001b[0m in \u001b[0;36m_input_request\u001b[1;34m(self, prompt, ident, parent, password)\u001b[0m\n\u001b[0;32m    890\u001b[0m             \u001b[1;32mexcept\u001b[0m \u001b[0mKeyboardInterrupt\u001b[0m\u001b[1;33m:\u001b[0m\u001b[1;33m\u001b[0m\u001b[1;33m\u001b[0m\u001b[0m\n\u001b[0;32m    891\u001b[0m                 \u001b[1;31m# re-raise KeyboardInterrupt, to truncate traceback\u001b[0m\u001b[1;33m\u001b[0m\u001b[1;33m\u001b[0m\u001b[1;33m\u001b[0m\u001b[0m\n\u001b[1;32m--> 892\u001b[1;33m                 \u001b[1;32mraise\u001b[0m \u001b[0mKeyboardInterrupt\u001b[0m\u001b[1;33m(\u001b[0m\u001b[1;34m\"Interrupted by user\"\u001b[0m\u001b[1;33m)\u001b[0m \u001b[1;32mfrom\u001b[0m \u001b[1;32mNone\u001b[0m\u001b[1;33m\u001b[0m\u001b[1;33m\u001b[0m\u001b[0m\n\u001b[0m\u001b[0;32m    893\u001b[0m             \u001b[1;32mexcept\u001b[0m \u001b[0mException\u001b[0m \u001b[1;32mas\u001b[0m \u001b[0me\u001b[0m\u001b[1;33m:\u001b[0m\u001b[1;33m\u001b[0m\u001b[1;33m\u001b[0m\u001b[0m\n\u001b[0;32m    894\u001b[0m                 \u001b[0mself\u001b[0m\u001b[1;33m.\u001b[0m\u001b[0mlog\u001b[0m\u001b[1;33m.\u001b[0m\u001b[0mwarning\u001b[0m\u001b[1;33m(\u001b[0m\u001b[1;34m\"Invalid Message:\"\u001b[0m\u001b[1;33m,\u001b[0m \u001b[0mexc_info\u001b[0m\u001b[1;33m=\u001b[0m\u001b[1;32mTrue\u001b[0m\u001b[1;33m)\u001b[0m\u001b[1;33m\u001b[0m\u001b[1;33m\u001b[0m\u001b[0m\n",
      "\u001b[1;31mKeyboardInterrupt\u001b[0m: Interrupted by user"
     ]
    }
   ],
   "source": [
    "# Questão 6\n",
    "# Faça um script que leia 10 números do usuário e devolva duas listas: \n",
    "# uma com os números ímpares e outra com os números pares.\n",
    "\n",
    "#Exemplo\n",
    "#input 1: 5\n",
    "#input 2: 4\n",
    "#(etc...): 6.. 7.. 1.. 2.. 3.. 7..\n",
    "#input 9: 4\n",
    "#input 10: 8\n",
    "#output: lista com ímpares: [5, 7, 1, 3, 7]\n",
    "#        lista com pares: [4, 6, 2, 4, 8]\n",
    "\n",
    "listaPares = []\n",
    "listaImpares = []\n",
    "i = 0\n",
    "pos = 1\n",
    "\n",
    "while i < 10:\n",
    "    numeroA = int(input(f\"Digite o {pos}º número: \"))\n",
    "    if numeroA % 2 == 0:\n",
    "        listaPares.append(numeroA)\n",
    "    else:\n",
    "        listaImpares.append(numeroA)\n",
    "    pos = pos + 1\n",
    "    i = i + 1\n",
    "\n",
    "print(f\"A lista de números impares é {listaImpares}.\")\n",
    "print(f\"A lista de números pares é {listaPares}.\")"
   ]
  },
  {
   "cell_type": "code",
   "execution_count": 77,
   "id": "d000a202",
   "metadata": {},
   "outputs": [
    {
     "name": "stdout",
     "output_type": "stream",
     "text": [
      "Digite um número inteiro: 87\n",
      "Digite um número inteiro: 60\n",
      "Digite um número inteiro: 25\n",
      "Digite um número inteiro: 36\n",
      "Digite um número inteiro: 98\n",
      "Digite um número inteiro: 0\n",
      "Você digitou 5 números.\n"
     ]
    }
   ],
   "source": [
    "# Questão 7\n",
    "# Faça um script que leia números do usuário, enquanto ele não digitar 0. \n",
    "# Armazene esses números em uma lista e ao final informe quantos números foram digitados, ignorando o 0.\n",
    "\n",
    "# Exemplo\n",
    "# input: 2\n",
    "# input: 4\n",
    "# input: -1\n",
    "# input: -5\n",
    "# input: 0\n",
    "# output: Você digitou 4 números\n",
    "\n",
    "numeroA = 1\n",
    "listaA = []\n",
    "\n",
    "while numeroA != 0:\n",
    "    numeroA = int(input(\"Digite um número inteiro: \"))\n",
    "    listaA.append(numeroA)\n",
    "\n",
    "\n",
    "print(f\"Você digitou {len(listaA) - 1} números.\")"
   ]
  },
  {
   "cell_type": "code",
   "execution_count": null,
   "id": "d08daaa8",
   "metadata": {},
   "outputs": [],
   "source": []
  }
 ],
 "metadata": {
  "kernelspec": {
   "display_name": "Python 3",
   "language": "python",
   "name": "python3"
  },
  "language_info": {
   "codemirror_mode": {
    "name": "ipython",
    "version": 3
   },
   "file_extension": ".py",
   "mimetype": "text/x-python",
   "name": "python",
   "nbconvert_exporter": "python",
   "pygments_lexer": "ipython3",
   "version": "3.9.5"
  }
 },
 "nbformat": 4,
 "nbformat_minor": 5
}
