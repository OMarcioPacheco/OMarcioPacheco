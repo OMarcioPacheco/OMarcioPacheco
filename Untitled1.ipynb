{
 "cells": [
  {
   "cell_type": "code",
   "execution_count": 6,
   "id": "901239f6",
   "metadata": {},
   "outputs": [
    {
     "name": "stdout",
     "output_type": "stream",
     "text": [
      "Digite o primeiro numero: 5\n",
      "Digite o segundo numero: 3\n",
      "40\n"
     ]
    }
   ],
   "source": [
    "numeroA = int(input(\"Digite o primeiro numero: \"))\n",
    "numeroB = int(input(\"Digite o segundo numero: \")) \n",
    "soma = numeroA + numeroB\n",
    "resultado = soma * numeroA\n",
    "print(resultado)"
   ]
  },
  {
   "cell_type": "code",
   "execution_count": 21,
   "id": "7d508d37",
   "metadata": {},
   "outputs": [
    {
     "name": "stdout",
     "output_type": "stream",
     "text": [
      "Qual o salário mensal? 1000\n",
      "Qual o percentual de reajuste? 10\n",
      "O salário atual é igual a R$ 1100.0\n"
     ]
    }
   ],
   "source": [
    "salarioMensal = float(input(\"Qual o salário mensal? \" ))\n",
    "reajuste = float(input(\"Qual o percentual de reajuste? \"))\n",
    "salarioAtual = round(salarioMensal * (1 + (reajuste/100)),2)\n",
    "print(f\"O salário atual é igual a R$ {salarioAtual}\")"
   ]
  },
  {
   "cell_type": "code",
   "execution_count": 26,
   "id": "8690e9f9",
   "metadata": {},
   "outputs": [
    {
     "name": "stdout",
     "output_type": "stream",
     "text": [
      "Qual o seu nome? Rayana\n",
      "Quantos anos você fez, ou fará, este ano? 27\n",
      "Olá, Rayana, você nasceu no ano de 1994.\n"
     ]
    }
   ],
   "source": [
    "nome = str(input(\"Qual o seu nome? \"))\n",
    "idade = int(input(\"Quantos anos você fez, ou fará, este ano? \"))\n",
    "import datetime\n",
    "year = datetime.date.today().year\n",
    "nascimento = year - idade\n",
    "print(f\"Olá, {nome}, você nasceu no ano de {nascimento}.\")"
   ]
  },
  {
   "cell_type": "code",
   "execution_count": 32,
   "id": "7e56e0c9",
   "metadata": {},
   "outputs": [
    {
     "name": "stdout",
     "output_type": "stream",
     "text": [
      "Digite um número inteiro: 9\n",
      "O valor do dobro desse número é 18.\n",
      "O valor desse número elevado ao quadrado é 81.\n",
      "O valor desse número elevado ao cubo é 729.\n"
     ]
    }
   ],
   "source": [
    "numeroA = int(input(\"Digite um número inteiro: \"))\n",
    "dobro = numeroA * 2\n",
    "quadrado = numeroA ** 2\n",
    "cubo = numeroA ** 3\n",
    "print(f\"O valor do dobro desse número é {dobro}.\")\n",
    "print(f\"O valor desse número elevado ao quadrado é {quadrado}.\")\n",
    "print(f\"O valor desse número elevado ao cubo é {cubo}.\")"
   ]
  },
  {
   "cell_type": "code",
   "execution_count": null,
   "id": "38058c76",
   "metadata": {},
   "outputs": [],
   "source": []
  }
 ],
 "metadata": {
  "kernelspec": {
   "display_name": "Python 3",
   "language": "python",
   "name": "python3"
  },
  "language_info": {
   "codemirror_mode": {
    "name": "ipython",
    "version": 3
   },
   "file_extension": ".py",
   "mimetype": "text/x-python",
   "name": "python",
   "nbconvert_exporter": "python",
   "pygments_lexer": "ipython3",
   "version": "3.9.5"
  }
 },
 "nbformat": 4,
 "nbformat_minor": 5
}
