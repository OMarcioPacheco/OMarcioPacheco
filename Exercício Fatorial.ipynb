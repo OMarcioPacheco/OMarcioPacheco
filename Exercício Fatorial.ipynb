{
 "cells": [
  {
   "cell_type": "code",
   "execution_count": 28,
   "id": "232160be",
   "metadata": {},
   "outputs": [
    {
     "name": "stdout",
     "output_type": "stream",
     "text": [
      "Digite um número inteiro não-negativo: 6\n",
      "6 = 720\n"
     ]
    }
   ],
   "source": [
    "# leia o valor de n\n",
    "n = int(input(\"Digite um número inteiro não-negativo: \"))\n",
    "\n",
    "# inicializações\n",
    "i = 1  # contador\n",
    "n_fat = 1  \n",
    "\n",
    "# calcule n!\n",
    "while i <= n:\n",
    "    n_fat = n_fat * i \n",
    "    i = i + 1\n",
    "\n",
    "print(\"%d = %d\" %(n, n_fat)) "
   ]
  },
  {
   "cell_type": "code",
   "execution_count": null,
   "id": "405e8b2e",
   "metadata": {},
   "outputs": [],
   "source": []
  }
 ],
 "metadata": {
  "kernelspec": {
   "display_name": "Python 3",
   "language": "python",
   "name": "python3"
  },
  "language_info": {
   "codemirror_mode": {
    "name": "ipython",
    "version": 3
   },
   "file_extension": ".py",
   "mimetype": "text/x-python",
   "name": "python",
   "nbconvert_exporter": "python",
   "pygments_lexer": "ipython3",
   "version": "3.9.5"
  }
 },
 "nbformat": 4,
 "nbformat_minor": 5
}
