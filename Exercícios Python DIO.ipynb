{
 "cells": [
  {
   "cell_type": "code",
   "execution_count": 1,
   "id": "738d894a",
   "metadata": {},
   "outputs": [
    {
     "data": {
      "text/plain": [
       "'fogo'"
      ]
     },
     "execution_count": 1,
     "metadata": {},
     "output_type": "execute_result"
    }
   ],
   "source": [
    "lista_elementos = ['agua', 'fogo', 'ar', 'terra']\n",
    "lista_elementos[1]"
   ]
  },
  {
   "cell_type": "code",
   "execution_count": 4,
   "id": "ff86b102",
   "metadata": {},
   "outputs": [
    {
     "name": "stdout",
     "output_type": "stream",
     "text": [
      "[4, 3, 2, 1]\n"
     ]
    }
   ],
   "source": [
    "lista = [1, 3, 2, 4]\n",
    "lista.sort()\n",
    "lista.reverse()\n",
    "print(lista)"
   ]
  },
  {
   "cell_type": "code",
   "execution_count": 5,
   "id": "1409fdda",
   "metadata": {},
   "outputs": [
    {
     "name": "stdout",
     "output_type": "stream",
     "text": [
      "[3, 5, 7, 11]\n"
     ]
    }
   ],
   "source": [
    "lista = [3, 5, 7, 10, 11]\n",
    "resultado = []\n",
    "for x in lista:\n",
    "    if x % 2 == 1:\n",
    "        resultado.append(x)\n",
    "print(resultado)"
   ]
  },
  {
   "cell_type": "code",
   "execution_count": 10,
   "id": "11346754",
   "metadata": {},
   "outputs": [
    {
     "data": {
      "text/plain": [
       "('Alemanha', 'Brasil', 'Escócia', 'Inglaterra')"
      ]
     },
     "execution_count": 10,
     "metadata": {},
     "output_type": "execute_result"
    }
   ],
   "source": [
    "lista_paises = ['Brasil', 'Escócia', 'Alemanha', 'Inglaterra']\n",
    "lista_paises.sort ()\n",
    "tuple(lista_paises)"
   ]
  },
  {
   "cell_type": "code",
   "execution_count": 11,
   "id": "fbdeef63",
   "metadata": {},
   "outputs": [
    {
     "name": "stdout",
     "output_type": "stream",
     "text": [
      "{4, 5, 8, 10, 12, 15, 16, 20}\n"
     ]
    }
   ],
   "source": [
    "conjunto1 = {4, 8, 12, 16}\n",
    "conjunto2 = {5, 10, 15, 20}\n",
    "uniao = conjunto1.union(conjunto2)\n",
    "print(uniao)"
   ]
  },
  {
   "cell_type": "code",
   "execution_count": 12,
   "id": "3e96c3cd",
   "metadata": {},
   "outputs": [
    {
     "name": "stdout",
     "output_type": "stream",
     "text": [
      "{1, 2, 4, 5}\n"
     ]
    }
   ],
   "source": [
    "conjunto = {1, 2, 2, 1, 4, 5}\n",
    "print(conjunto)"
   ]
  },
  {
   "cell_type": "code",
   "execution_count": 14,
   "id": "8b7fd851",
   "metadata": {},
   "outputs": [
    {
     "name": "stdout",
     "output_type": "stream",
     "text": [
      "{50, 20, 10, 30}\n"
     ]
    }
   ],
   "source": [
    "conjunto = {10, 20, 30, 40, 50}\n",
    "conjunto.discard (40)\n",
    "print(conjunto)"
   ]
  },
  {
   "cell_type": "code",
   "execution_count": 15,
   "id": "729736fe",
   "metadata": {},
   "outputs": [
    {
     "name": "stdout",
     "output_type": "stream",
     "text": [
      "[3, 6]\n"
     ]
    }
   ],
   "source": [
    "conjunto_a = {1, 1, 3, 4, 5}\n",
    "conjunto_b = {1, 3, 6}\n",
    "conjunto_a.add(6)\n",
    "conjunto_a.remove(1)\n",
    "resultado = list(conjunto_a.intersection(conjunto_b))\n",
    "print(resultado)"
   ]
  },
  {
   "cell_type": "code",
   "execution_count": 18,
   "id": "5be245e0",
   "metadata": {},
   "outputs": [
    {
     "name": "stdout",
     "output_type": "stream",
     "text": [
      "0 é par\n"
     ]
    }
   ],
   "source": [
    "def minha_funcao(numero):\n",
    "    if numero % 2 == 0:\n",
    "        return '{} é par'.format(numero)\n",
    "    else:\n",
    "        return '{} é ímpar'.format(numero)\n",
    "    return \"zero é neutro\"\n",
    "\n",
    "resultado = minha_funcao(0)\n",
    "print(resultado)"
   ]
  },
  {
   "cell_type": "code",
   "execution_count": 19,
   "id": "a5852c69",
   "metadata": {},
   "outputs": [
    {
     "name": "stdout",
     "output_type": "stream",
     "text": [
      "False\n"
     ]
    }
   ],
   "source": [
    "class Carro:\n",
    "    def __init__(self):\n",
    "        self.motor = 'desligado'\n",
    "        self.movimento = False\n",
    "\n",
    "    def ligar(self):\n",
    "        self.motor = 'ligado'\n",
    "    \n",
    "    def acelerar(self):\n",
    "        if self.motor == 'ligado':\n",
    "            self.movimento = True\n",
    "\n",
    "    def carro_em_movimento(self):\n",
    "        return self.movimento\n",
    "\n",
    "carro = Carro()\n",
    "carro.acelerar()\n",
    "carro_em_movimento = carro.carro_em_movimento()\n",
    "print(carro_em_movimento)"
   ]
  },
  {
   "cell_type": "code",
   "execution_count": 20,
   "id": "691debb7",
   "metadata": {},
   "outputs": [
    {
     "name": "stdout",
     "output_type": "stream",
     "text": [
      "3\n"
     ]
    }
   ],
   "source": [
    "soma = lambda a,b: a + b\n",
    "print(soma(1, 2))"
   ]
  },
  {
   "cell_type": "code",
   "execution_count": 22,
   "id": "c8534a7e",
   "metadata": {},
   "outputs": [
    {
     "name": "stdout",
     "output_type": "stream",
     "text": [
      "3\n"
     ]
    }
   ],
   "source": [
    "soma: lambda a,b: a + b\n",
    "print(soma(1,2))"
   ]
  },
  {
   "cell_type": "code",
   "execution_count": 23,
   "id": "4a9217d9",
   "metadata": {},
   "outputs": [
    {
     "name": "stdout",
     "output_type": "stream",
     "text": [
      "True\n"
     ]
    }
   ],
   "source": [
    "valida_numero = {\n",
    "    'par': lambda a: True if a % 2 == 0 else False,\n",
    "    'impar': lambda b: True if b % 2 == 0 else False\n",
    "}\n",
    "resultado = valida_numero['par'](10)\n",
    "print(resultado)"
   ]
  },
  {
   "cell_type": "code",
   "execution_count": 24,
   "id": "d49b8e83",
   "metadata": {},
   "outputs": [
    {
     "name": "stdout",
     "output_type": "stream",
     "text": [
      "['João programa em Python', ' Java', ' PHP e Ruby']\n"
     ]
    }
   ],
   "source": [
    "resultado = 'João programa em Python, Java, PHP e Ruby'.split(',')\n",
    "print(resultado)"
   ]
  },
  {
   "cell_type": "code",
   "execution_count": 28,
   "id": "efd9a619",
   "metadata": {},
   "outputs": [
    {
     "name": "stdout",
     "output_type": "stream",
     "text": [
      "['O', 'alfabeto', 'é', 'composto', 'pelas', 'vogais:', 'a,', 'e,', 'i,', 'o', 'e', 'u.']\n"
     ]
    }
   ],
   "source": [
    "name = \"O alfabeto é composto pelas vogais: a, e, i, o e u.\"\n",
    "name = name.split()\n",
    "\n",
    "print (name)"
   ]
  },
  {
   "cell_type": "code",
   "execution_count": 36,
   "id": "fa4392c6",
   "metadata": {},
   "outputs": [
    {
     "name": "stdout",
     "output_type": "stream",
     "text": [
      "2021-06-24 16:04:42.306974\n",
      "24/06/2021 16:04:42\n"
     ]
    }
   ],
   "source": [
    "from datetime import datetime\n",
    "data_atual = datetime.now()\n",
    "resultado = data_atual.strftime('%d/%m/%Y %H:%M:%S')\n",
    "print(data_atual)\n",
    "print(resultado)"
   ]
  },
  {
   "cell_type": "code",
   "execution_count": 37,
   "id": "09149173",
   "metadata": {},
   "outputs": [
    {
     "name": "stdout",
     "output_type": "stream",
     "text": [
      "Ocorreu um erro desconhecido\n"
     ]
    }
   ],
   "source": [
    "try:\n",
    "    lista = [1, 2]\n",
    "    print(lista[2])\n",
    "except Exception:\n",
    "    print('Ocorreu um erro desconhecido')\n",
    "except IndexError:\n",
    "    print('Não foi possível acessar o index pois ele não existe na lista')"
   ]
  },
  {
   "cell_type": "code",
   "execution_count": 40,
   "id": "8405e8ad",
   "metadata": {},
   "outputs": [
    {
     "name": "stdout",
     "output_type": "stream",
     "text": [
      "Elemento 0 removido.\n",
      "Busca completa\n"
     ]
    }
   ],
   "source": [
    "try:\n",
    "  x = 0\n",
    "  elementos = ['terra', 'ar', 'fogo', 'agua']\n",
    "  elementos.pop(x)\n",
    "except:\n",
    "  print('Elemento não encontrado')\n",
    "else:\n",
    "  print('Elemento {} removido.'.format(x))\n",
    "finally:\n",
    "  print('Busca completa')\n"
   ]
  },
  {
   "cell_type": "code",
   "execution_count": 41,
   "id": "a6589cd3",
   "metadata": {},
   "outputs": [
    {
     "name": "stdout",
     "output_type": "stream",
     "text": [
      "Houve um erro ao realizar uma operação aritmética\n"
     ]
    }
   ],
   "source": [
    "try:    \n",
    "    divisao = 10 / 0\n",
    "except ArithmeticError:\n",
    "    erro = 'Houve um erro ao realizar uma operação aritmética'\n",
    "except Exception:\n",
    "    erro = 'Ocorreu um erro desconhecido'\n",
    "else:\n",
    "    erro = False    \n",
    "finally:\n",
    "    if erro:\n",
    "        print(erro)\n",
    "    else:\n",
    "        print(divisao)"
   ]
  },
  {
   "cell_type": "code",
   "execution_count": 42,
   "id": "6d75e3ef",
   "metadata": {},
   "outputs": [
    {
     "name": "stdout",
     "output_type": "stream",
     "text": [
      "Digite um nome: marcio\n",
      "Nome inválido\n",
      "Digite um nome: ola\n",
      "Nome inválido\n",
      "Digite um nome: adda\n",
      "Nome inválido\n",
      "Digite um nome: Adda\n"
     ]
    }
   ],
   "source": [
    "class InputError(Exception):\n",
    "    def __init__(self, message):\n",
    "        self.message = message\n",
    "\n",
    "nome = 'Adda'\n",
    "while True:\n",
    "    try:\n",
    "        x = input('Digite um nome: ')\n",
    "        if x == nome:\n",
    "            break\n",
    "        else:\n",
    "            raise InputError('Nome inválido')\n",
    "    except InputError as ex:\n",
    "        print(ex)"
   ]
  },
  {
   "cell_type": "code",
   "execution_count": 43,
   "id": "6b2abb09",
   "metadata": {},
   "outputs": [
    {
     "ename": "ModuleNotFoundError",
     "evalue": "No module named 'requests'",
     "output_type": "error",
     "traceback": [
      "\u001b[1;31m---------------------------------------------------------------------------\u001b[0m",
      "\u001b[1;31mModuleNotFoundError\u001b[0m                       Traceback (most recent call last)",
      "\u001b[1;32m<ipython-input-43-accbd30e05e5>\u001b[0m in \u001b[0;36m<module>\u001b[1;34m\u001b[0m\n\u001b[1;32m----> 1\u001b[1;33m \u001b[1;32mimport\u001b[0m \u001b[0mrequests\u001b[0m\u001b[1;33m\u001b[0m\u001b[1;33m\u001b[0m\u001b[0m\n\u001b[0m\u001b[0;32m      2\u001b[0m \u001b[0murl\u001b[0m \u001b[1;33m=\u001b[0m \u001b[1;34m'https://digitalinnovation.one'\u001b[0m\u001b[1;33m\u001b[0m\u001b[1;33m\u001b[0m\u001b[0m\n\u001b[0;32m      3\u001b[0m \u001b[0mresponse\u001b[0m \u001b[1;33m=\u001b[0m \u001b[0mrequests\u001b[0m\u001b[1;33m.\u001b[0m\u001b[0mget\u001b[0m\u001b[1;33m(\u001b[0m\u001b[0murl\u001b[0m\u001b[1;33m)\u001b[0m\u001b[1;33m\u001b[0m\u001b[1;33m\u001b[0m\u001b[0m\n\u001b[0;32m      4\u001b[0m \u001b[0mstatus_code\u001b[0m \u001b[1;33m=\u001b[0m \u001b[0mresponse\u001b[0m\u001b[1;33m.\u001b[0m\u001b[0mstatus_code\u001b[0m\u001b[1;33m\u001b[0m\u001b[1;33m\u001b[0m\u001b[0m\n\u001b[0;32m      5\u001b[0m \u001b[0mprint\u001b[0m\u001b[1;33m(\u001b[0m\u001b[0mstatus_code\u001b[0m\u001b[1;33m)\u001b[0m\u001b[1;33m\u001b[0m\u001b[1;33m\u001b[0m\u001b[0m\n",
      "\u001b[1;31mModuleNotFoundError\u001b[0m: No module named 'requests'"
     ]
    }
   ],
   "source": [
    "import requests\n",
    "url = 'https://digitalinnovation.one'\n",
    "response = requests.get(url)\n",
    "status_code = response.status_code\n",
    "print(status_code)"
   ]
  },
  {
   "cell_type": "code",
   "execution_count": null,
   "id": "71cd13ff",
   "metadata": {},
   "outputs": [],
   "source": []
  }
 ],
 "metadata": {
  "kernelspec": {
   "display_name": "Python 3",
   "language": "python",
   "name": "python3"
  },
  "language_info": {
   "codemirror_mode": {
    "name": "ipython",
    "version": 3
   },
   "file_extension": ".py",
   "mimetype": "text/x-python",
   "name": "python",
   "nbconvert_exporter": "python",
   "pygments_lexer": "ipython3",
   "version": "3.9.5"
  }
 },
 "nbformat": 4,
 "nbformat_minor": 5
}
