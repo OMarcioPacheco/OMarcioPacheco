{
 "cells": [
  {
   "cell_type": "code",
   "execution_count": null,
   "id": "180d1f34",
   "metadata": {},
   "outputs": [],
   "source": [
    "# Questão 1\n",
    "# Qual a diferença entre índices de uma lista e chaves de um dicionário?\n",
    "\n",
    "O índice de uma lista se refere a posição de algum objeto dentro dela. Já no dicionário, realizamos a utilização de\n",
    "palavras-chave para encontrar as informações que procuramos, sem a necessidade de saber em que posições exatas \n",
    "aquelas informações se encontram."
   ]
  },
  {
   "cell_type": "code",
   "execution_count": 5,
   "id": "692dc3de",
   "metadata": {},
   "outputs": [
    {
     "ename": "KeyboardInterrupt",
     "evalue": "Interrupted by user",
     "output_type": "error",
     "traceback": [
      "\u001b[1;31m---------------------------------------------------------------------------\u001b[0m",
      "\u001b[1;31mKeyboardInterrupt\u001b[0m                         Traceback (most recent call last)",
      "\u001b[1;32m<ipython-input-5-3629b19aac65>\u001b[0m in \u001b[0;36m<module>\u001b[1;34m\u001b[0m\n\u001b[0;32m      5\u001b[0m \u001b[0mmeuPrimeiroDicionario\u001b[0m \u001b[1;33m=\u001b[0m \u001b[1;33m{\u001b[0m\u001b[1;33m}\u001b[0m\u001b[1;33m\u001b[0m\u001b[1;33m\u001b[0m\u001b[0m\n\u001b[0;32m      6\u001b[0m \u001b[1;33m\u001b[0m\u001b[0m\n\u001b[1;32m----> 7\u001b[1;33m \u001b[0mmeuPrimeiroDicionario\u001b[0m\u001b[1;33m[\u001b[0m\u001b[1;34m\"nome\"\u001b[0m\u001b[1;33m]\u001b[0m \u001b[1;33m=\u001b[0m \u001b[0minput\u001b[0m\u001b[1;33m(\u001b[0m\u001b[1;34m\"Digite seu nome: \"\u001b[0m\u001b[1;33m)\u001b[0m\u001b[1;33m\u001b[0m\u001b[1;33m\u001b[0m\u001b[0m\n\u001b[0m\u001b[0;32m      8\u001b[0m \u001b[0mmeuPrimeiroDicionario\u001b[0m\u001b[1;33m[\u001b[0m\u001b[1;34m\"idade\"\u001b[0m\u001b[1;33m]\u001b[0m \u001b[1;33m=\u001b[0m \u001b[0mint\u001b[0m\u001b[1;33m(\u001b[0m\u001b[0minput\u001b[0m\u001b[1;33m(\u001b[0m\u001b[1;34m\"Digite a sua idade: \"\u001b[0m\u001b[1;33m)\u001b[0m\u001b[1;33m)\u001b[0m\u001b[1;33m\u001b[0m\u001b[1;33m\u001b[0m\u001b[0m\n\u001b[0;32m      9\u001b[0m \u001b[0mmeuPrimeiroDicionario\u001b[0m\u001b[1;33m[\u001b[0m\u001b[1;34m\"email\"\u001b[0m\u001b[1;33m]\u001b[0m \u001b[1;33m=\u001b[0m \u001b[0minput\u001b[0m\u001b[1;33m(\u001b[0m\u001b[1;34m\"Digite seu e-mail: \"\u001b[0m\u001b[1;33m)\u001b[0m\u001b[1;33m\u001b[0m\u001b[1;33m\u001b[0m\u001b[0m\n",
      "\u001b[1;32mc:\\users\\márcio pacheco\\appdata\\local\\programs\\python\\python39\\lib\\site-packages\\ipykernel\\kernelbase.py\u001b[0m in \u001b[0;36mraw_input\u001b[1;34m(self, prompt)\u001b[0m\n\u001b[0;32m    846\u001b[0m                 \u001b[1;34m\"raw_input was called, but this frontend does not support input requests.\"\u001b[0m\u001b[1;33m\u001b[0m\u001b[1;33m\u001b[0m\u001b[0m\n\u001b[0;32m    847\u001b[0m             )\n\u001b[1;32m--> 848\u001b[1;33m         return self._input_request(str(prompt),\n\u001b[0m\u001b[0;32m    849\u001b[0m             \u001b[0mself\u001b[0m\u001b[1;33m.\u001b[0m\u001b[0m_parent_ident\u001b[0m\u001b[1;33m,\u001b[0m\u001b[1;33m\u001b[0m\u001b[1;33m\u001b[0m\u001b[0m\n\u001b[0;32m    850\u001b[0m             \u001b[0mself\u001b[0m\u001b[1;33m.\u001b[0m\u001b[0m_parent_header\u001b[0m\u001b[1;33m,\u001b[0m\u001b[1;33m\u001b[0m\u001b[1;33m\u001b[0m\u001b[0m\n",
      "\u001b[1;32mc:\\users\\márcio pacheco\\appdata\\local\\programs\\python\\python39\\lib\\site-packages\\ipykernel\\kernelbase.py\u001b[0m in \u001b[0;36m_input_request\u001b[1;34m(self, prompt, ident, parent, password)\u001b[0m\n\u001b[0;32m    890\u001b[0m             \u001b[1;32mexcept\u001b[0m \u001b[0mKeyboardInterrupt\u001b[0m\u001b[1;33m:\u001b[0m\u001b[1;33m\u001b[0m\u001b[1;33m\u001b[0m\u001b[0m\n\u001b[0;32m    891\u001b[0m                 \u001b[1;31m# re-raise KeyboardInterrupt, to truncate traceback\u001b[0m\u001b[1;33m\u001b[0m\u001b[1;33m\u001b[0m\u001b[1;33m\u001b[0m\u001b[0m\n\u001b[1;32m--> 892\u001b[1;33m                 \u001b[1;32mraise\u001b[0m \u001b[0mKeyboardInterrupt\u001b[0m\u001b[1;33m(\u001b[0m\u001b[1;34m\"Interrupted by user\"\u001b[0m\u001b[1;33m)\u001b[0m \u001b[1;32mfrom\u001b[0m \u001b[1;32mNone\u001b[0m\u001b[1;33m\u001b[0m\u001b[1;33m\u001b[0m\u001b[0m\n\u001b[0m\u001b[0;32m    893\u001b[0m             \u001b[1;32mexcept\u001b[0m \u001b[0mException\u001b[0m \u001b[1;32mas\u001b[0m \u001b[0me\u001b[0m\u001b[1;33m:\u001b[0m\u001b[1;33m\u001b[0m\u001b[1;33m\u001b[0m\u001b[0m\n\u001b[0;32m    894\u001b[0m                 \u001b[0mself\u001b[0m\u001b[1;33m.\u001b[0m\u001b[0mlog\u001b[0m\u001b[1;33m.\u001b[0m\u001b[0mwarning\u001b[0m\u001b[1;33m(\u001b[0m\u001b[1;34m\"Invalid Message:\"\u001b[0m\u001b[1;33m,\u001b[0m \u001b[0mexc_info\u001b[0m\u001b[1;33m=\u001b[0m\u001b[1;32mTrue\u001b[0m\u001b[1;33m)\u001b[0m\u001b[1;33m\u001b[0m\u001b[1;33m\u001b[0m\u001b[0m\n",
      "\u001b[1;31mKeyboardInterrupt\u001b[0m: Interrupted by user"
     ]
    }
   ],
   "source": [
    "# Questão 2\n",
    "# Faça um script que receba os valores do nome, idade e e-mail de uma pessoa e guarde-os em um dicionário \n",
    "# com as chaves 'nome', 'idade' e 'email', respectivamente. Exiba as informações desse dicionário.\n",
    "\n",
    "meuPrimeiroDicionario = {}\n",
    "\n",
    "meuPrimeiroDicionario[\"nome\"] = input(\"Digite seu nome: \")\n",
    "meuPrimeiroDicionario[\"idade\"] = int(input(\"Digite a sua idade: \"))\n",
    "meuPrimeiroDicionario[\"email\"] = input(\"Digite seu e-mail: \")\n",
    "\n",
    "print(f\"\\nInformações registradas no dicionário com sucesso: {meuPrimeiroDicionario}.\")"
   ]
  },
  {
   "cell_type": "code",
   "execution_count": 15,
   "id": "30f30b6b",
   "metadata": {},
   "outputs": [
    {
     "name": "stdout",
     "output_type": "stream",
     "text": [
      "Digite o 1º número: 12\n",
      "Digite o 2º número: 35\n",
      "Digite o 3º número: 36\n",
      "Digite o 4º número: 39\n",
      "Digite o 5º número: 87\n",
      "Digite o 6º número: 5\n",
      "Digite o 7º número: 46\n",
      "Digite o 8º número: 28\n",
      "Digite o 9º número: 10\n",
      "Digite o 10º número: 4\n",
      "\n",
      "Dicionário de números:  {'pares': [12, 36, 46, 28, 10, 4], 'impares': [35, 39, 87, 5]}\n"
     ]
    }
   ],
   "source": [
    "# Questão 3\n",
    "# Faça um programa que leia 10 números do usuário e os coloque corretamente no dicionário D abaixo.\n",
    "# D = {'pares': [], 'impares':[]}\n",
    "\n",
    "D = {'pares':[],'impares':[]}\n",
    "i = 0\n",
    "pos = 1\n",
    "\n",
    "while i < 10:\n",
    "    numero = int(input(f\"Digite o {pos}º número: \"))\n",
    "    if numero % 2 == 0:\n",
    "        D[\"pares\"].append(numero)\n",
    "    else:\n",
    "        D[\"impares\"].append(numero)\n",
    "    pos = pos + 1\n",
    "    i = i + 1\n",
    "\n",
    "print(\"\\nDicionário de números: \", D)  "
   ]
  },
  {
   "cell_type": "code",
   "execution_count": 117,
   "id": "e6ee3e87",
   "metadata": {},
   "outputs": [
    {
     "name": "stdout",
     "output_type": "stream",
     "text": [
      "Digite alguma frase: bom dia dia\n",
      "{'bom': 1, 'dia': 2}\n"
     ]
    }
   ],
   "source": [
    "# Questão 4\n",
    "# Faça um script que leia uma frase do usuário e use um dicionário que apresente as palavras \n",
    "# e a frequência de sua aparição na frase.\n",
    "\n",
    "# Exemplo\n",
    "# input: bom dia dia\n",
    "# output: {'bom':1 'dia':2}\n",
    "\n",
    "def ContaLetras(s):\n",
    "    d = dict()\n",
    "    s1 = s.lower()\n",
    "    s2 = s1.split()\n",
    "    for c in s2:\n",
    "        if c not in d:\n",
    "            d[c] = 1\n",
    "        else:\n",
    "            d[c] += 1\n",
    "    return d\n",
    "\n",
    "print(ContaLetras(input(\"Digite alguma frase: \" )))"
   ]
  },
  {
   "cell_type": "code",
   "execution_count": 96,
   "id": "58c61d81",
   "metadata": {},
   "outputs": [
    {
     "name": "stdout",
     "output_type": "stream",
     "text": [
      "OLA OLA OLA\n",
      "['ola', 'ola', 'ola']\n"
     ]
    }
   ],
   "source": [
    "nome = input()\n",
    "nome1 = nome.lower()\n",
    "nome2 = nome1.split()\n",
    "print(nome2)"
   ]
  },
  {
   "cell_type": "code",
   "execution_count": 1,
   "id": "7a30ccf7",
   "metadata": {},
   "outputs": [
    {
     "name": "stdout",
     "output_type": "stream",
     "text": [
      "ola marcio\n"
     ]
    },
    {
     "data": {
      "text/plain": [
       "{'o': 2, 'l': 1, 'a': 2, ' ': 1, 'm': 1, 'r': 1, 'c': 1, 'i': 1}"
      ]
     },
     "execution_count": 1,
     "metadata": {},
     "output_type": "execute_result"
    }
   ],
   "source": [
    "def histogram(s):\n",
    "    d = dict()\n",
    "    for c in s:\n",
    "        if c not in d:\n",
    "            d[c] = 1\n",
    "        else:\n",
    "            d[c] += 1\n",
    "    return d\n",
    "\n",
    "histogram(input())"
   ]
  },
  {
   "cell_type": "code",
   "execution_count": 50,
   "id": "352fd86e",
   "metadata": {},
   "outputs": [
    {
     "ename": "KeyboardInterrupt",
     "evalue": "Interrupted by user",
     "output_type": "error",
     "traceback": [
      "\u001b[1;31m---------------------------------------------------------------------------\u001b[0m",
      "\u001b[1;31mKeyboardInterrupt\u001b[0m                         Traceback (most recent call last)",
      "\u001b[1;32m<ipython-input-50-51ab5d7855ca>\u001b[0m in \u001b[0;36m<module>\u001b[1;34m\u001b[0m\n\u001b[0;32m     65\u001b[0m     \u001b[1;32mreturn\u001b[0m \u001b[0mletras\u001b[0m\u001b[1;33m\u001b[0m\u001b[1;33m\u001b[0m\u001b[0m\n\u001b[0;32m     66\u001b[0m \u001b[1;33m\u001b[0m\u001b[0m\n\u001b[1;32m---> 67\u001b[1;33m \u001b[0mprint\u001b[0m\u001b[1;33m(\u001b[0m\u001b[0mContaLetras\u001b[0m\u001b[1;33m(\u001b[0m\u001b[0minput\u001b[0m\u001b[1;33m(\u001b[0m\u001b[1;33m)\u001b[0m\u001b[1;33m)\u001b[0m\u001b[1;33m)\u001b[0m\u001b[1;33m\u001b[0m\u001b[1;33m\u001b[0m\u001b[0m\n\u001b[0m",
      "\u001b[1;32mc:\\users\\márcio pacheco\\appdata\\local\\programs\\python\\python39\\lib\\site-packages\\ipykernel\\kernelbase.py\u001b[0m in \u001b[0;36mraw_input\u001b[1;34m(self, prompt)\u001b[0m\n\u001b[0;32m    846\u001b[0m                 \u001b[1;34m\"raw_input was called, but this frontend does not support input requests.\"\u001b[0m\u001b[1;33m\u001b[0m\u001b[1;33m\u001b[0m\u001b[0m\n\u001b[0;32m    847\u001b[0m             )\n\u001b[1;32m--> 848\u001b[1;33m         return self._input_request(str(prompt),\n\u001b[0m\u001b[0;32m    849\u001b[0m             \u001b[0mself\u001b[0m\u001b[1;33m.\u001b[0m\u001b[0m_parent_ident\u001b[0m\u001b[1;33m,\u001b[0m\u001b[1;33m\u001b[0m\u001b[1;33m\u001b[0m\u001b[0m\n\u001b[0;32m    850\u001b[0m             \u001b[0mself\u001b[0m\u001b[1;33m.\u001b[0m\u001b[0m_parent_header\u001b[0m\u001b[1;33m,\u001b[0m\u001b[1;33m\u001b[0m\u001b[1;33m\u001b[0m\u001b[0m\n",
      "\u001b[1;32mc:\\users\\márcio pacheco\\appdata\\local\\programs\\python\\python39\\lib\\site-packages\\ipykernel\\kernelbase.py\u001b[0m in \u001b[0;36m_input_request\u001b[1;34m(self, prompt, ident, parent, password)\u001b[0m\n\u001b[0;32m    890\u001b[0m             \u001b[1;32mexcept\u001b[0m \u001b[0mKeyboardInterrupt\u001b[0m\u001b[1;33m:\u001b[0m\u001b[1;33m\u001b[0m\u001b[1;33m\u001b[0m\u001b[0m\n\u001b[0;32m    891\u001b[0m                 \u001b[1;31m# re-raise KeyboardInterrupt, to truncate traceback\u001b[0m\u001b[1;33m\u001b[0m\u001b[1;33m\u001b[0m\u001b[1;33m\u001b[0m\u001b[0m\n\u001b[1;32m--> 892\u001b[1;33m                 \u001b[1;32mraise\u001b[0m \u001b[0mKeyboardInterrupt\u001b[0m\u001b[1;33m(\u001b[0m\u001b[1;34m\"Interrupted by user\"\u001b[0m\u001b[1;33m)\u001b[0m \u001b[1;32mfrom\u001b[0m \u001b[1;32mNone\u001b[0m\u001b[1;33m\u001b[0m\u001b[1;33m\u001b[0m\u001b[0m\n\u001b[0m\u001b[0;32m    893\u001b[0m             \u001b[1;32mexcept\u001b[0m \u001b[0mException\u001b[0m \u001b[1;32mas\u001b[0m \u001b[0me\u001b[0m\u001b[1;33m:\u001b[0m\u001b[1;33m\u001b[0m\u001b[1;33m\u001b[0m\u001b[0m\n\u001b[0;32m    894\u001b[0m                 \u001b[0mself\u001b[0m\u001b[1;33m.\u001b[0m\u001b[0mlog\u001b[0m\u001b[1;33m.\u001b[0m\u001b[0mwarning\u001b[0m\u001b[1;33m(\u001b[0m\u001b[1;34m\"Invalid Message:\"\u001b[0m\u001b[1;33m,\u001b[0m \u001b[0mexc_info\u001b[0m\u001b[1;33m=\u001b[0m\u001b[1;32mTrue\u001b[0m\u001b[1;33m)\u001b[0m\u001b[1;33m\u001b[0m\u001b[1;33m\u001b[0m\u001b[0m\n",
      "\u001b[1;31mKeyboardInterrupt\u001b[0m: Interrupted by user"
     ]
    }
   ],
   "source": [
    "# Questão 5\n",
    "# Faça um script que leia uma frase do usuário e use um dicionário que apresente \n",
    "# as letras e a frequência de aparição desta letra na frase.\n",
    "\n",
    "\n",
    "def ContaLetras(txt):\n",
    "    letras = {\"a\": 0, \"b\": 0, \"c\": 0, \"d\": 0, \"e\": 0, \"f\": 0, \"g\": 0, \"h\": 0, \"i\": 0, \"j\": 0,\n",
    "             \"k\": 0, \"l\": 0, \"m\": 0, \"n\": 0, \"o\": 0, \"p\": 0, \"q\": 0, \"r\": 0, \"s\": 0, \"t\": 0,\n",
    "             \"u\": 0, \"v\": 0, \"w\": 0, \"x\": 0, \"y\": 0, \"z\": 0}\n",
    "    \n",
    "    for letra in txt:\n",
    "        if letra in [\"a\", \"A\"]:\n",
    "            letras[\"a\"] += 1\n",
    "        if letra in [\"b\", \"B\"]:\n",
    "            letras[\"b\"] += 1\n",
    "        if letra in [\"c\", \"C\"]:\n",
    "            letras[\"c\"] += 1\n",
    "        if letra in [\"d\", \"D\"]:\n",
    "            letras[\"d\"] += 1\n",
    "        if letra in [\"e\", \"E\"]:\n",
    "            letras[\"e\"] += 1\n",
    "        if letra in [\"f\", \"F\"]:\n",
    "            letras[\"f\"] += 1\n",
    "        if letra in [\"g\", \"G\"]:\n",
    "            letras[\"g\"] += 1\n",
    "        if letra in [\"h\", \"H\"]:\n",
    "            letras[\"h\"] += 1\n",
    "        if letra in [\"i\", \"I\"]:\n",
    "            letras[\"i\"] += 1\n",
    "        if letra in [\"j\", \"J\"]:\n",
    "            letras[\"j\"] += 1\n",
    "        if letra in [\"k\", \"K\"]:\n",
    "            letras[\"k\"] += 1\n",
    "        if letra in [\"l\", \"L\"]:\n",
    "            letras[\"l\"] += 1\n",
    "        if letra in [\"m\", \"M\"]:\n",
    "            letras[\"m\"] += 1\n",
    "        if letra in [\"n\", \"N\"]:\n",
    "            letras[\"n\"] += 1\n",
    "        if letra in [\"o\", \"O\"]:\n",
    "            letras[\"o\"] += 1\n",
    "        if letra in [\"p\", \"P\"]:\n",
    "            letras[\"p\"] += 1\n",
    "        if letra in [\"q\", \"Q\"]:\n",
    "            letras[\"q\"] += 1\n",
    "        if letra in [\"r\", \"R\"]:\n",
    "            letras[\"r\"] += 1\n",
    "        if letra in [\"s\", \"S\"]:\n",
    "            letras[\"s\"] += 1\n",
    "        if letra in [\"t\", \"T\"]:\n",
    "            letras[\"t\"] += 1\n",
    "        if letra in [\"u\", \"U\"]:\n",
    "            letras[\"u\"] += 1\n",
    "        if letra in [\"v\", \"V\"]:\n",
    "            letras[\"v\"] += 1\n",
    "        if letra in [\"w\", \"W\"]:\n",
    "            letras[\"w\"] += 1\n",
    "        if letra in [\"x\", \"X\"]:\n",
    "            letras[\"x\"] += 1\n",
    "        if letra in [\"y\", \"Y\"]:\n",
    "            letras[\"y\"] += 1\n",
    "        if letra in [\"z\", \"Z\"]:\n",
    "            letras[\"z\"] += 1\n",
    "        \n",
    "    return letras\n",
    "\n",
    "print(ContaLetras(input())) "
   ]
  },
  {
   "cell_type": "code",
   "execution_count": 109,
   "id": "218dbe40",
   "metadata": {},
   "outputs": [
    {
     "name": "stdout",
     "output_type": "stream",
     "text": [
      "Coding Tank\n",
      "{'c': 1, 'o': 1, 'd': 1, 'i': 1, 'n': 2, 'g': 1, ' ': 1, 't': 1, 'a': 1, 'k': 1}\n"
     ]
    }
   ],
   "source": [
    "# Questão 5\n",
    "# Faça um script que leia uma frase do usuário e use um dicionário que apresente \n",
    "# as letras e a frequência de aparição desta letra na frase.\n",
    "\n",
    "\n",
    "def ContaLetras(s):\n",
    "    d = dict()\n",
    "    s1 = s.lower()\n",
    "    for c in s1:\n",
    "        if c not in d:\n",
    "            d[c] = 1\n",
    "        else:\n",
    "            d[c] += 1\n",
    "    return d\n",
    "\n",
    "print(ContaLetras(input())) "
   ]
  },
  {
   "cell_type": "code",
   "execution_count": 149,
   "id": "b2e5e37f",
   "metadata": {},
   "outputs": [
    {
     "name": "stdout",
     "output_type": "stream",
     "text": [
      "Digite um número: 5\n",
      "Digite um número: 6\n"
     ]
    }
   ],
   "source": [
    "a = int(input('Digite um número: '))\n",
    "while a % 2 != 0:\n",
    "    a = int(input('Digite um número: '))"
   ]
  },
  {
   "cell_type": "code",
   "execution_count": null,
   "id": "34fb71e3",
   "metadata": {},
   "outputs": [],
   "source": []
  }
 ],
 "metadata": {
  "kernelspec": {
   "display_name": "Python 3",
   "language": "python",
   "name": "python3"
  },
  "language_info": {
   "codemirror_mode": {
    "name": "ipython",
    "version": 3
   },
   "file_extension": ".py",
   "mimetype": "text/x-python",
   "name": "python",
   "nbconvert_exporter": "python",
   "pygments_lexer": "ipython3",
   "version": "3.9.5"
  }
 },
 "nbformat": 4,
 "nbformat_minor": 5
}
