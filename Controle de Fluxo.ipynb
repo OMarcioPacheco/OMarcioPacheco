{
 "cells": [
  {
   "cell_type": "code",
   "execution_count": 6,
   "id": "90c1c21d",
   "metadata": {},
   "outputs": [
    {
     "name": "stdout",
     "output_type": "stream",
     "text": [
      "False\n",
      "True\n",
      "True\n",
      "True\n",
      "False\n"
     ]
    }
   ],
   "source": [
    "# Questão 1\n",
    "# Sabendo que A <- 3, B <- 5, C <- 6. Responda Verdadeiro ou Falso.\n",
    "\n",
    "a = 3\n",
    "b = 5\n",
    "c = 6\n",
    "\n",
    "# a) A maior que B?\n",
    "print(a > b)\n",
    "# Resposta: False\n",
    "\n",
    "# b) (A + C) maior que C?\n",
    "print ((a + c) > c)\n",
    "# Resposta: True\n",
    "\n",
    "# c) (A * 2) igual a C?\n",
    "print((a * 2) == c)\n",
    "# Resposta: True\n",
    "\n",
    "# d) C - B igual a 1?\n",
    "print ((c - b) == 1)\n",
    "# Resposta: True\n",
    "\n",
    "# e) (A - B) igual a (B - C + 1)?\n",
    "print ((a - b) == (b - c + 1))\n",
    "# Resposta: False"
   ]
  },
  {
   "cell_type": "code",
   "execution_count": 9,
   "id": "9ada9978",
   "metadata": {},
   "outputs": [
    {
     "name": "stdout",
     "output_type": "stream",
     "text": [
      "False\n",
      "True\n",
      "True\n"
     ]
    }
   ],
   "source": [
    "#Questão 2\n",
    "# Sabendo que A <- 5, B <- 7, C <- 3. Responda Verdadeiro ou Falso.\n",
    "\n",
    "a = 5\n",
    "b = 7\n",
    "c = 3\n",
    "\n",
    "# a) (A maior que B) e (B menor que C)?\n",
    "print((a > b) and (b < c))\n",
    "# Resposta: False\n",
    "\n",
    "# b) (A diferente de C) ou (A igual a C)?\n",
    "print((a != c) or (a == c))\n",
    "# Resposta: True\n",
    "\n",
    "# c) ((A diferente de B) e (B diferente de C)) ou (A igual a 8)?\n",
    "print(((a != b) and (b != c)) or (a == 8))\n",
    "# Resposta: True"
   ]
  },
  {
   "cell_type": "code",
   "execution_count": 11,
   "id": "f24f4fc1",
   "metadata": {},
   "outputs": [
    {
     "name": "stdout",
     "output_type": "stream",
     "text": [
      "4 2\n"
     ]
    }
   ],
   "source": [
    "# Questão 3\n",
    "# Analise o algoritmo a seguir e informe quais serão os valores de x e y ao final.\n",
    "\n",
    "x = 3\n",
    "y = 2\n",
    "x = x + 1\n",
    "y = x - y\n",
    "\n",
    "if y > 2: \n",
    "    x = 2\n",
    "\n",
    "print(x , y)\n",
    "# Resposta:\n",
    "# x == 4\n",
    "# y == 2"
   ]
  },
  {
   "cell_type": "code",
   "execution_count": 12,
   "id": "0f1ede32",
   "metadata": {},
   "outputs": [
    {
     "name": "stdout",
     "output_type": "stream",
     "text": [
      "x = 2\n",
      "y = 0\n"
     ]
    }
   ],
   "source": [
    "# Questão 4\n",
    "# Analise o algoritmo a seguir e informe os valores de x e y.\n",
    "\n",
    "x = 2\n",
    "y = x ** 3\n",
    "\n",
    "if y == 8:\n",
    "    y = 0\n",
    "else:\n",
    "    x = 0\n",
    "    \n",
    "print(f\"x = {x}\")\n",
    "print(f\"y = {y}\")\n",
    "\n",
    "# Resposta:\n",
    "# x = 2\n",
    "# y = 0"
   ]
  },
  {
   "cell_type": "code",
   "execution_count": null,
   "id": "7c20d942",
   "metadata": {},
   "outputs": [],
   "source": []
  }
 ],
 "metadata": {
  "kernelspec": {
   "display_name": "Python 3",
   "language": "python",
   "name": "python3"
  },
  "language_info": {
   "codemirror_mode": {
    "name": "ipython",
    "version": 3
   },
   "file_extension": ".py",
   "mimetype": "text/x-python",
   "name": "python",
   "nbconvert_exporter": "python",
   "pygments_lexer": "ipython3",
   "version": "3.9.5"
  }
 },
 "nbformat": 4,
 "nbformat_minor": 5
}
