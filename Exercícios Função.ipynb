{
 "cells": [
  {
   "cell_type": "code",
   "execution_count": 15,
   "id": "c3196c9f",
   "metadata": {},
   "outputs": [
    {
     "name": "stdout",
     "output_type": "stream",
     "text": [
      "Digite um número inteiro: 13061989\n",
      "98916031\n"
     ]
    }
   ],
   "source": [
    "# Questão 1\n",
    "# Faça uma função que retorne o reverso de um número inteiro. Por exemplo: 127 -> 721.\n",
    "\n",
    "#def reverterNumero (n):\n",
    "#    for i in n:\n",
    "\n",
    "def reverter (n):\n",
    "    listaReversa = list(n)\n",
    "    listaReversa = list(map(int,listaReversa))\n",
    "    i = len(listaReversa)\n",
    "\n",
    "    while i > 1:\n",
    "        print(listaReversa[-1], end =\"\")\n",
    "        i = i-1\n",
    "        del(listaReversa[-1])\n",
    "    else:\n",
    "        print(listaReversa[0])\n",
    "        \n",
    "\n",
    "reverter(input(\"Digite um número inteiro: \"))\n",
    "\n"
   ]
  },
  {
   "cell_type": "code",
   "execution_count": 2,
   "id": "ba012b62",
   "metadata": {},
   "outputs": [
    {
     "name": "stdout",
     "output_type": "stream",
     "text": [
      "Digite um número inteiro: 15\n",
      "1\n",
      "1 2\n",
      "1 2 3\n",
      "1 2 3 4\n",
      "1 2 3 4 5\n",
      "1 2 3 4 5 6\n",
      "1 2 3 4 5 6 7\n",
      "1 2 3 4 5 6 7 8\n",
      "1 2 3 4 5 6 7 8 9\n",
      "1 2 3 4 5 6 7 8 9 10\n",
      "1 2 3 4 5 6 7 8 9 10 11\n",
      "1 2 3 4 5 6 7 8 9 10 11 12\n",
      "1 2 3 4 5 6 7 8 9 10 11 12 13\n",
      "1 2 3 4 5 6 7 8 9 10 11 12 13 14\n",
      "1 2 3 4 5 6 7 8 9 10 11 12 13 14 15\n"
     ]
    }
   ],
   "source": [
    "# Questão 2\n",
    "# Faça um programa para imprimir:\n",
    "#    1\n",
    "#    1   2\n",
    "#    1   2   3\n",
    "#    .....\n",
    "#    1   2   3   ...  n\n",
    "# para um na rede pelo usuário. Use uma função que receba um valor n inteiro imprima até a n-ésima linha.\n",
    "\n",
    "def impressora (n):\n",
    "    listaA = []\n",
    "    for numero in range (1 , n + 1):\n",
    "        listaA.append(numero)\n",
    "        print(*listaA, sep = ' ')\n",
    "        \n",
    "impressora(int(input(\"Digite um número inteiro: \")))"
   ]
  },
  {
   "cell_type": "code",
   "execution_count": 62,
   "id": "b05aa89a",
   "metadata": {},
   "outputs": [
    {
     "name": "stdout",
     "output_type": "stream",
     "text": [
      "Digite um número inteiro: 28\n",
      "True\n"
     ]
    }
   ],
   "source": [
    "# Questão 3\n",
    "# Faça uma função que se um valor é perfeito ou não. \n",
    "# Um valor é dito perfeito quando ele é igual a soma dos seus divisores excetuando ele próprio. \n",
    "# (Ex: 6 é perfeito, 6 = 1 + 2 + 3, que são seus divisores). \n",
    "# Uma função deve retornar um valor booleano.\n",
    "\n",
    "def numeroPerfeito (n):\n",
    "    \n",
    "    somaPerfeito = []\n",
    "    \n",
    "    for numero in range(1, n):\n",
    "        if n % numero == 0:\n",
    "            somaPerfeito.append(numero)\n",
    "    \n",
    "    numPerfeito = sum(somaPerfeito)\n",
    "    if numPerfeito == n:\n",
    "        print(True)\n",
    "    else:\n",
    "        print(False)\n",
    "\n",
    "\n",
    "numeroPerfeito(int(input(\"Digite um número inteiro: \")))"
   ]
  },
  {
   "cell_type": "code",
   "execution_count": 39,
   "id": "ce3bee77",
   "metadata": {},
   "outputs": [
    {
     "name": "stdout",
     "output_type": "stream",
     "text": [
      "Digite o valor atual do produto: 4650\n",
      "Digite o percentual de imposto (%): 30\n",
      "O novo valor, calculado com o resjuste do imposto é R$ 6045.0.\n"
     ]
    }
   ],
   "source": [
    "# Questão 4 \n",
    "# Faça um programa com duas funções: uma chamada \"calculaImposto\". A função possui dois parâmetros formais: taxaImposto, \n",
    "# que é a quantia de imposto sobre vendas expressa em porcentagem e custo, que é o custo de um item antes do imposto e \n",
    "# irá retornar a taxa de imposto. E uma função “alteraValor” que recebe o valor de costume e a taxa de imposto para \n",
    "# incluir o imposto sobre vendas e retorna esse novo valor.\n",
    "\n",
    "def calculaImposto(a , b):\n",
    "    calculoTaxa = a * (b / 100)\n",
    "    return calculoTaxa\n",
    "\n",
    "def alteraValor(a , b):\n",
    "    valorAnterior = a\n",
    "    taxaImposto = calculaImposto(a , b)\n",
    "    valorFinal = valorAnterior + taxaImposto\n",
    "    return valorFinal\n",
    "\n",
    "novoValor = alteraValor(int(input(\"Digite o valor atual do produto: \")), int(input(\"Digite o percentual de imposto (%): \")))\n",
    "\n",
    "print(f\"O novo valor, calculado com o resjuste do imposto é R$ {novoValor}.\")\n",
    "    "
   ]
  },
  {
   "cell_type": "code",
   "execution_count": 49,
   "id": "45234c99",
   "metadata": {},
   "outputs": [
    {
     "name": "stdout",
     "output_type": "stream",
     "text": [
      "Digite o dia (DD): 09\n",
      "Digite o mês (MM): 02\n",
      "Digite o ano (AAAA): 1945\n",
      "Dia 09 de Fevereiro de 1945.\n"
     ]
    }
   ],
   "source": [
    "# Questão 5\n",
    "# Construa uma função que receba três aqrgumentios (dia, mes e ano em inteiros ) \n",
    "# e devolve uma string no formato Dia de mesPorExtenso de AAAA.\n",
    "\n",
    "def dataExtenso(a , b , c):\n",
    "    if b == \"01\":\n",
    "        mes = \"Janeiro\"\n",
    "    elif b == \"02\":\n",
    "        mes = \"Fevereiro\"\n",
    "    elif b == \"03\":\n",
    "        mes = \"Março\"\n",
    "    elif b == \"04\":\n",
    "        mes = \"Abril\"\n",
    "    elif b == \"05\":\n",
    "        mes = \"Maio\"\n",
    "    elif b == \"06\":\n",
    "        mes = \"Junho\"\n",
    "    elif b == \"07\":\n",
    "        mes = \"Julho\"\n",
    "    elif b == \"08\":\n",
    "        mes = \"Agosto\"\n",
    "    elif b == \"09\":\n",
    "        mes == \"Setembro\"\n",
    "    elif b == \"10\":\n",
    "        mes = \"Outubro\"\n",
    "    elif b == \"11\":\n",
    "        mes = \"Novembro\"\n",
    "    elif b == \"12\":\n",
    "        mes = \"Dezembro\"\n",
    "    \n",
    "    return print(f\"Dia {a} de {mes} de {c}.\")\n",
    "\n",
    "dataExtenso(input(\"Digite o dia (DD): \"),input(\"Digite o mês (MM): \"), int(input(\"Digite o ano (AAAA): \")))\n"
   ]
  },
  {
   "cell_type": "code",
   "execution_count": null,
   "id": "09d11940",
   "metadata": {},
   "outputs": [],
   "source": []
  }
 ],
 "metadata": {
  "kernelspec": {
   "display_name": "Python 3",
   "language": "python",
   "name": "python3"
  },
  "language_info": {
   "codemirror_mode": {
    "name": "ipython",
    "version": 3
   },
   "file_extension": ".py",
   "mimetype": "text/x-python",
   "name": "python",
   "nbconvert_exporter": "python",
   "pygments_lexer": "ipython3",
   "version": "3.9.5"
  }
 },
 "nbformat": 4,
 "nbformat_minor": 5
}
