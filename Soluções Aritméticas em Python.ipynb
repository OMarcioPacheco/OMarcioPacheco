{
 "cells": [
  {
   "cell_type": "code",
   "execution_count": 5,
   "id": "266b71aa",
   "metadata": {},
   "outputs": [
    {
     "name": "stdout",
     "output_type": "stream",
     "text": [
      "51\n",
      "N[0] = 51\n",
      "N[1] = 102\n",
      "N[2] = 204\n",
      "N[3] = 408\n",
      "N[4] = 816\n",
      "N[5] = 1632\n",
      "N[6] = 3264\n",
      "N[7] = 6528\n",
      "N[8] = 13056\n",
      "N[9] = 26112\n"
     ]
    }
   ],
   "source": [
    "x = int(input())\n",
    "for i in range (10):\n",
    "    print(f\"N[{i}] = {x}\")\n",
    "    x = x*2\n"
   ]
  },
  {
   "cell_type": "code",
   "execution_count": 6,
   "id": "3807ac26",
   "metadata": {},
   "outputs": [
    {
     "name": "stdout",
     "output_type": "stream",
     "text": [
      "49\n",
      "N[0] = 49\n",
      "N[1] = 98\n",
      "N[2] = 196\n",
      "N[3] = 392\n",
      "N[4] = 784\n",
      "N[5] = 1568\n",
      "N[6] = 3136\n",
      "N[7] = 6272\n",
      "N[8] = 12544\n",
      "N[9] = 25088\n"
     ]
    }
   ],
   "source": [
    "x = int(input())\n",
    "for i in range (10):\n",
    "    print(f\"N[{i}] = {x}\")\n",
    "    x = x*2"
   ]
  },
  {
   "cell_type": "code",
   "execution_count": 10,
   "id": "86c697c2",
   "metadata": {},
   "outputs": [
    {
     "name": "stdout",
     "output_type": "stream",
     "text": [
      "6.0 4.0 2.0\n",
      "Area = 10.0\n"
     ]
    }
   ],
   "source": [
    "a = [float(x) for x in input().split()]\n",
    "if a[0] + a[1] > a[2] and a[0] + a[2] > a[1] and a[1] + a[2] > a[0]:  \n",
    "    print(f\"Perimetro = {sum(a):.1f}\")\n",
    "else:\n",
    "    print(f\"Area = {((a[0] + a[1]) * a[2])/2}\")"
   ]
  },
  {
   "cell_type": "code",
   "execution_count": null,
   "id": "36f92f76",
   "metadata": {},
   "outputs": [],
   "source": []
  }
 ],
 "metadata": {
  "kernelspec": {
   "display_name": "Python 3",
   "language": "python",
   "name": "python3"
  },
  "language_info": {
   "codemirror_mode": {
    "name": "ipython",
    "version": 3
   },
   "file_extension": ".py",
   "mimetype": "text/x-python",
   "name": "python",
   "nbconvert_exporter": "python",
   "pygments_lexer": "ipython3",
   "version": "3.9.5"
  }
 },
 "nbformat": 4,
 "nbformat_minor": 5
}
