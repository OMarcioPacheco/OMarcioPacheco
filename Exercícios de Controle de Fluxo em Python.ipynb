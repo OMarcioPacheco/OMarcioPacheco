{
 "cells": [
  {
   "cell_type": "code",
   "execution_count": 14,
   "id": "591810bd",
   "metadata": {},
   "outputs": [
    {
     "name": "stdout",
     "output_type": "stream",
     "text": [
      "Digite o primeiro número: 6\n",
      "Digite o segundo número: 6\n",
      "Os números são iguais.\n"
     ]
    }
   ],
   "source": [
    "# Questão 1\n",
    "# Faça um script que leia dois números e informe o maior deles.\n",
    "\n",
    "numeroA = int(input(\"Digite o primeiro número: \"))\n",
    "numeroB = int(input(\"Digite o segundo número: \"))\n",
    "\n",
    "if numeroA > numeroB:\n",
    "    print(f\"O número {numeroA} é o maior.\")\n",
    "elif numeroA < numeroB:\n",
    "    print(f\"O número {numeroB} é o maior.\")\n",
    "else:\n",
    "    print(f\"Os números são iguais.\")"
   ]
  },
  {
   "cell_type": "code",
   "execution_count": 28,
   "id": "6965ad62",
   "metadata": {},
   "outputs": [
    {
     "name": "stdout",
     "output_type": "stream",
     "text": [
      "Digite um número: 3\n",
      "O número 3 é ímpar.\n"
     ]
    }
   ],
   "source": [
    "# Questão 2\n",
    "# Faça um script que leia um número e informe se ele é par ou ímpar.\n",
    "\n",
    "numeroA = int(input(\"Digite um número: \"))\n",
    "\n",
    "if numeroA%2 == 0:\n",
    "    print(f\"O número {numeroA} é par.\")\n",
    "else:\n",
    "    print(f\"O número {numeroA} é ímpar.\")"
   ]
  },
  {
   "cell_type": "code",
   "execution_count": 52,
   "id": "f573be19",
   "metadata": {},
   "outputs": [
    {
     "name": "stdout",
     "output_type": "stream",
     "text": [
      "Qual a idade da pessoa? 35\n",
      "A pessoa possui carteira de motorista (S ou N)? nao\n",
      "Esta pessoa não está pronta para dirigir.\n"
     ]
    }
   ],
   "source": [
    "# Questão 3\n",
    "# Faça um script que informe se uma pessoa está pronta para dirigir um carro.\n",
    "# Uma pessoa só pode dirigir se for maior de idade e se tiver carteira de motorista. \n",
    "# Dica: carteira pode ser variável lógica.\n",
    "\n",
    "idadeA = int(input(\"Qual a idade da pessoa? \"))\n",
    "\n",
    "if idadeA <= 0:\n",
    "    print(\"Idade inválida.\")\n",
    "elif idadeA < 18:\n",
    "    print(\"Esta pessoa não está pronta para dirigir.\")\n",
    "else:\n",
    "    carteiraA = str(input(\"A pessoa possui carteira de motorista (S ou N)? \"))\n",
    "    if carteiraA == \"S\" or carteiraA == \"s\" or carteiraA == \"sim\" or carteiraA == \"Sim\":\n",
    "        print(\"Esta pessoa está pronta para dirigir.\")\n",
    "    elif carteiraA == \"N\" or carteiraA == \"n\" or carteiraA == \"Não\" or carteiraA == \"não\" or carteiraA == \"nao\":\n",
    "        print(\"Esta pessoa não está pronta para dirigir.\")\n",
    "    else:\n",
    "        print(\"Resposta inválida. Dados insuficientes.\")"
   ]
  },
  {
   "cell_type": "code",
   "execution_count": null,
   "id": "05615832",
   "metadata": {},
   "outputs": [],
   "source": [
    "# Questão 4\n",
    "# Faça um script que faça o login de uma pessoa no servidor ABC. Um usuário é \"admin\" e a senha é \"admin123\".\n",
    "\n",
    "nomeUsuario = input(\"Digite o nome de usuário: \")\n",
    "\n",
    "while nomeUsuario != \"admin\": \n",
    "    print(\"\\nNome de usuário incorreto.\") \n",
    "    nomeUsuario = input(\"Digite corretamente o seu nome de usuário: \")\n",
    "\n",
    "senha = input(\"\\nAgora digite sua senha: \" )\n",
    "\n",
    "while senha != \"admin123\": \n",
    "    print(\"\\nSenha incorreta.\") \n",
    "    senha = input(\"Digite novamente sua senha: \")\n",
    "\n",
    "print(\"\\nLogin efetuado com sucesso.\")\n"
   ]
  },
  {
   "cell_type": "code",
   "execution_count": 71,
   "id": "be01c7d2",
   "metadata": {},
   "outputs": [
    {
     "name": "stdout",
     "output_type": "stream",
     "text": [
      "Informe o salário: 20000\n",
      "O salário atual é R$ 20000.0.\n",
      "O percentual de aumento será de 5 %.\n",
      "O salário será aumentado em R$ 1000.0.\n",
      "O novo salário será de R$ 21000.0.\n"
     ]
    }
   ],
   "source": [
    "# Questão 5\n",
    "# Uma empresa irá aplicar um reajuste nos salários de seus funcionários de acordo com as seguintes regras:\n",
    "\n",
    "# Salário até R$ 2800,00 (incluindo): aumento de 20%;\n",
    "# Salários entre R$ 2.800,00 e R$ 7.000,00: aumento de 15%;\n",
    "# Salários entre R$ 7.000,00 e R$ 15.000,00: aumento de 10%;\n",
    "# Salários de R$ 15000,00 em aumento: aumento de 5%.\n",
    "\n",
    "# Dado o salário de funcionário, informe: o salário antes do reajuste; o percentual de aumento de vendas; \n",
    "# o valor do aumento e o salário novo.\n",
    "\n",
    "salarioA = float(input(\"Informe o salário atual: \"))\n",
    "\n",
    "if salarioA <= 2800:\n",
    "    reajuste = 0.20\n",
    "    novo_salario = round(salarioA * (1 + reajuste),2)\n",
    "    valor_do_reajuste = round(salarioA * reajuste,2)\n",
    "    percentual_reajuste = int(reajuste * 100)\n",
    "    print(f\"O salário atual é R$ {salarioA}.\")\n",
    "    print(f\"O percentual de aumento será de {percentual_reajuste} %.\")\n",
    "    print(f\"O salário será aumentado em R$ {valor_do_reajuste}.\")\n",
    "    print(f\"O novo salário será de R$ {novo_salario}.\")\n",
    "elif salarioA > 2800 and salarioA <= 7000:\n",
    "    reajuste = 0.15\n",
    "    novo_salario = round(salarioA * (1 + reajuste),2)\n",
    "    valor_do_reajuste = round(salarioA * reajuste,2)\n",
    "    percentual_reajuste = int(reajuste * 100)\n",
    "    print(f\"O salário atual é R$ {salarioA}.\")\n",
    "    print(f\"O percentual de aumento será de {percentual_reajuste} %.\")\n",
    "    print(f\"O salário será aumentado em R$ {valor_do_reajuste}.\")\n",
    "    print(f\"O novo salário será de R$ {novo_salario}.\")\n",
    "elif salarioA > 7000 and salarioA <= 15000:\n",
    "    reajuste = 0.10\n",
    "    novo_salario = round(salarioA * (1 + reajuste),2)\n",
    "    valor_do_reajuste = round(salarioA * reajuste,2)\n",
    "    percentual_reajuste = int(reajuste * 100)\n",
    "    print(f\"O salário atual é R$ {salarioA}.\")\n",
    "    print(f\"O percentual de aumento será de {percentual_reajuste} %.\")\n",
    "    print(f\"O salário será aumentado em R$ {valor_do_reajuste}.\")\n",
    "    print(f\"O novo salário será de R$ {novo_salario}.\")\n",
    "else:\n",
    "    reajuste = 0.05\n",
    "    novo_salario = round(salarioA * (1 + reajuste),2)\n",
    "    valor_do_reajuste = round(salarioA * reajuste,2)\n",
    "    percentual_reajuste = int(reajuste * 100)\n",
    "    print(f\"O salário atual é R$ {salarioA}.\")\n",
    "    print(f\"O percentual de aumento será de {percentual_reajuste} %.\")\n",
    "    print(f\"O salário será aumentado em R$ {valor_do_reajuste}.\")\n",
    "    print(f\"O novo salário será de R$ {novo_salario}.\")"
   ]
  },
  {
   "cell_type": "code",
   "execution_count": 117,
   "id": "ca667b28",
   "metadata": {},
   "outputs": [
    {
     "name": "stdout",
     "output_type": "stream",
     "text": [
      "Menu Principal:\n",
      "1 - Fim\n",
      "2 - Cadastro\n",
      "3 - Consulta\n",
      "Escolha a sua opção: 2\n",
      "Cadastro\n"
     ]
    }
   ],
   "source": [
    "# Faça um script de menu que mostra na tela, com o título de \"Menu Principal\" e mais três opções: \n",
    "# 1 - Fim; 2 - Cadastro; 3 - Consulta.\n",
    "\n",
    "# O programa recebe um input do teclado a opção escolhida e mostra uma mensagem confirmando a opção escolhida. \n",
    "# Caso a opção escolhida seja inválida, mostrar uma mensagem de erro \"Opção Inválida\".\n",
    "\n",
    "print(\"\"\"Menu Principal:\n",
    "1 - Fim\n",
    "2 - Cadastro\n",
    "3 - Consulta\"\"\")\n",
    "\n",
    "opcaoA = int(input(\"Escolha a sua opção: \"))\n",
    "\n",
    "if opcaoA == 1:\n",
    "    print(\"Fim\")\n",
    "elif opcaoA == 2:\n",
    "    print(\"Cadastro\")\n",
    "elif opcaoA == 3:\n",
    "    print(\"Consulta\")\n",
    "else:\n",
    "    print(\"Opção inválida.\")"
   ]
  }
 ],
 "metadata": {
  "kernelspec": {
   "display_name": "Python 3",
   "language": "python",
   "name": "python3"
  },
  "language_info": {
   "codemirror_mode": {
    "name": "ipython",
    "version": 3
   },
   "file_extension": ".py",
   "mimetype": "text/x-python",
   "name": "python",
   "nbconvert_exporter": "python",
   "pygments_lexer": "ipython3",
   "version": "3.9.5"
  }
 },
 "nbformat": 4,
 "nbformat_minor": 5
}
