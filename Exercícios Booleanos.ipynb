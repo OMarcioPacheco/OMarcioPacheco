{
 "cells": [
  {
   "cell_type": "code",
   "execution_count": 16,
   "id": "1bbf969c",
   "metadata": {},
   "outputs": [
    {
     "data": {
      "text/plain": [
       "True"
      ]
     },
     "execution_count": 16,
     "metadata": {},
     "output_type": "execute_result"
    }
   ],
   "source": [
    "# Questão 1\n",
    "# Determinar a negação das seguintes expressões:\n",
    "\n",
    "# a) a> b\n",
    "a <= b\n",
    "\n",
    "\n",
    "# b) a> = b\n",
    "a < b\n",
    "\n",
    "# c) a> = 18 e dia == 3\n",
    "a < 18 or dia != 3\n",
    "\n",
    "# d) a> = 18 e dia! = 3\n",
    "a < 18 or dia == 3"
   ]
  },
  {
   "cell_type": "code",
   "execution_count": 38,
   "id": "e292ccd9",
   "metadata": {},
   "outputs": [
    {
     "data": {
      "text/plain": [
       "False"
      ]
     },
     "execution_count": 38,
     "metadata": {},
     "output_type": "execute_result"
    }
   ],
   "source": [
    "# Determinar se as seguintes palavras são verdadeiras ou falsas:\n",
    "\n",
    "# a) Verdadeiro e Verdadeiro\n",
    "True\n",
    "\n",
    "# b) Falso e verdadeiro\n",
    "False\n",
    "\n",
    "# c) 1 == 1 e 2 == 1\n",
    "False\n",
    "\n",
    "# d) \"teste\" == \"teste\"\n",
    "True\n",
    "\n",
    "# e) 1 == 1 ou 2! = 1\n",
    "True\n",
    "\n",
    "# f) Verdadeiro e 1 == 1\n",
    "True\n",
    "\n",
    "# g) Falso e 0! = 0\n",
    "False\n",
    "\n",
    "# h) Verdadeiro ou 1 == 1\n",
    "True\n",
    "\n",
    "# i) \"teste\" == \"teste\"\n",
    "True\n",
    "\n",
    "# j) 1! = 0 e 2 == 1\n",
    "False\n",
    "\n",
    "# k) \"teste\"! = \"teste\"\n",
    "False\n",
    "\n",
    "# l) \"teste\" == 1\n",
    "False\n",
    "\n",
    "# m) não (verdadeiro e falso)\n",
    "True\n",
    "\n",
    "# n) não (1 == 1 e 0! = 1)\n",
    "False"
   ]
  },
  {
   "cell_type": "code",
   "execution_count": null,
   "id": "f67832a7",
   "metadata": {},
   "outputs": [],
   "source": []
  }
 ],
 "metadata": {
  "kernelspec": {
   "display_name": "Python 3",
   "language": "python",
   "name": "python3"
  },
  "language_info": {
   "codemirror_mode": {
    "name": "ipython",
    "version": 3
   },
   "file_extension": ".py",
   "mimetype": "text/x-python",
   "name": "python",
   "nbconvert_exporter": "python",
   "pygments_lexer": "ipython3",
   "version": "3.9.5"
  }
 },
 "nbformat": 4,
 "nbformat_minor": 5
}
